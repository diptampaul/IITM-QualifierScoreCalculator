{
 "cells": [
  {
   "cell_type": "code",
   "execution_count": 72,
   "metadata": {},
   "outputs": [],
   "source": [
    "import pandas as pd\n",
    "import numpy as np\n",
    "import math"
   ]
  },
  {
   "cell_type": "code",
   "execution_count": 69,
   "metadata": {},
   "outputs": [
    {
     "name": "stdout",
     "output_type": "stream",
     "text": [
      "      id                    file_uploaded  public_ip  \\\n",
      "8      9          POD20Q1QP2S21610324.pdf  49.37.7.1   \n",
      "10    11          POD20Q1QP3S21700070.pdf  49.37.7.1   \n",
      "11    12          POD20Q1QP1S11670509.pdf  49.37.7.1   \n",
      "14    15          POD20Q1QP2S21670462.pdf  49.37.7.1   \n",
      "16    17          POD20Q1QP3S21420017.pdf  49.37.7.1   \n",
      "..   ...                              ...        ...   \n",
      "320  321          POD20Q1QP2S21740319.pdf  49.37.7.1   \n",
      "322  323  POD20Q1QP2S21350076_itr30mG.pdf  49.37.7.1   \n",
      "323  324        POD20Q1QP3S21670453_2.pdf  49.37.7.1   \n",
      "324  325          POD20Q1QP1S11140218.pdf  49.37.7.1   \n",
      "325  326          POD20Q1QP3S21880010.pdf  49.37.7.1   \n",
      "\n",
      "                             name  paper_code  total_marks  engcount  ctcount  \\\n",
      "8            YADAV AKASH SHREERAM           2       133.83        40     39.0   \n",
      "10                AYUSH KUMAR JHA           3        76.00        34     23.5   \n",
      "11                   DIVYAM ARORA           1       132.17        45     40.5   \n",
      "14                ISHIKA JAGWAYAN           2       135.00        46     24.0   \n",
      "16                   SUJOY BHADRA           3        87.33        41     24.0   \n",
      "..                            ...         ...          ...       ...      ...   \n",
      "320       ALANKRITA PRIYADARSHINI           2       171.50        46     41.0   \n",
      "322                ARVIND KUMAR S           2       125.67        41     42.0   \n",
      "323               PRIYANSHU SINGH           3       150.67        45     43.5   \n",
      "324  GANESH VENKATA SURYA PUPPALA           1       101.33        39     20.0   \n",
      "325            JAMEEL KAISAR KHAN           3       184.00        46     50.0   \n",
      "\n",
      "     statcount  mathcount  \n",
      "8         28.5      26.33  \n",
      "10        16.5       2.00  \n",
      "11        31.0      15.67  \n",
      "14        28.0      37.00  \n",
      "16         9.0      13.33  \n",
      "..         ...        ...  \n",
      "320       39.5      45.00  \n",
      "322       22.0      20.67  \n",
      "323       32.5      29.67  \n",
      "324       23.0      19.33  \n",
      "325       41.0      47.00  \n",
      "\n",
      "[217 rows x 10 columns]\n"
     ]
    }
   ],
   "source": [
    "data = pd.read_csv('upload_fileupload.csv')\n",
    "\n",
    "\n",
    "\n",
    "#Removing Duplicates and keeping last one\n",
    "data = data.drop_duplicates(subset=['name'], keep='last')\n",
    "print(data)"
   ]
  },
  {
   "cell_type": "code",
   "execution_count": 8,
   "metadata": {},
   "outputs": [
    {
     "data": {
      "text/html": [
       "<div>\n",
       "<style scoped>\n",
       "    .dataframe tbody tr th:only-of-type {\n",
       "        vertical-align: middle;\n",
       "    }\n",
       "\n",
       "    .dataframe tbody tr th {\n",
       "        vertical-align: top;\n",
       "    }\n",
       "\n",
       "    .dataframe thead th {\n",
       "        text-align: right;\n",
       "    }\n",
       "</style>\n",
       "<table border=\"1\" class=\"dataframe\">\n",
       "  <thead>\n",
       "    <tr style=\"text-align: right;\">\n",
       "      <th></th>\n",
       "      <th>id</th>\n",
       "      <th>file_uploaded</th>\n",
       "      <th>public_ip</th>\n",
       "      <th>name</th>\n",
       "      <th>paper_code</th>\n",
       "      <th>total_marks</th>\n",
       "      <th>engcount</th>\n",
       "      <th>ctcount</th>\n",
       "      <th>statcount</th>\n",
       "      <th>mathcount</th>\n",
       "    </tr>\n",
       "  </thead>\n",
       "  <tbody>\n",
       "    <tr>\n",
       "      <th>249</th>\n",
       "      <td>250</td>\n",
       "      <td>POD20Q1QP3S21490766_iYsuv4k.pdf</td>\n",
       "      <td>49.37.7.1</td>\n",
       "      <td>DIPTAM PAUL</td>\n",
       "      <td>3</td>\n",
       "      <td>156.0</td>\n",
       "      <td>44</td>\n",
       "      <td>45.0</td>\n",
       "      <td>33.33</td>\n",
       "      <td>33.67</td>\n",
       "    </tr>\n",
       "  </tbody>\n",
       "</table>\n",
       "</div>"
      ],
      "text/plain": [
       "      id                    file_uploaded  public_ip         name  paper_code  \\\n",
       "249  250  POD20Q1QP3S21490766_iYsuv4k.pdf  49.37.7.1  DIPTAM PAUL           3   \n",
       "\n",
       "     total_marks  engcount  ctcount  statcount  mathcount  \n",
       "249        156.0        44     45.0      33.33      33.67  "
      ]
     },
     "execution_count": 8,
     "metadata": {},
     "output_type": "execute_result"
    }
   ],
   "source": [
    "data[data['name'] == 'DIPTAM PAUL']"
   ]
  },
  {
   "cell_type": "code",
   "execution_count": 11,
   "metadata": {},
   "outputs": [
    {
     "name": "stdout",
     "output_type": "stream",
     "text": [
      "         Name  Score1  Score2  Score3\n",
      "0       Alisa      62      89      56\n",
      "1       Bobby      47      87      86\n",
      "2    Cathrine      55      67      77\n",
      "3     Madonna      74      55      45\n",
      "4       Rocky      31      47      73\n",
      "5   Sebastian      77      72      62\n",
      "6    Jaqluine      85      76      74\n",
      "7       Rahul      63      79      89\n",
      "8       David      42      44      71\n",
      "9      Andrew      32      92      67\n",
      "10       Ajay      71      99      97\n",
      "11     Teresa      57      69      68\n",
      "The standard deviations of the 3 columns are:\n",
      "Score1    17.446021\n",
      "Score2    17.653225\n",
      "Score3    14.355603\n",
      "dtype: float64\n"
     ]
    }
   ],
   "source": [
    "import pandas as pd\n",
    "import numpy as np\n",
    " \n",
    "#Create a DataFrame\n",
    "d = {\n",
    "    'Name':['Alisa','Bobby','Cathrine','Madonna','Rocky','Sebastian','Jaqluine',\n",
    "   'Rahul','David','Andrew','Ajay','Teresa'],\n",
    "   'Score1':[62,47,55,74,31,77,85,63,42,32,71,57],\n",
    "   'Score2':[89,87,67,55,47,72,76,79,44,92,99,69],\n",
    "   'Score3':[56,86,77,45,73,62,74,89,71,67,97,68]}\n",
    "\n",
    "df = pd.DataFrame(d)\n",
    "answer= df.std()\n",
    "print(df)\n",
    "print(\"The standard deviations of the 3 columns are:\")\n",
    "print (answer)"
   ]
  },
  {
   "cell_type": "code",
   "execution_count": 91,
   "metadata": {},
   "outputs": [
    {
     "data": {
      "text/plain": [
       "155.4508856135912"
      ]
     },
     "execution_count": 91,
     "metadata": {},
     "output_type": "execute_result"
    }
   ],
   "source": [
    "data_code_1 = data[data['paper_code']==1].sort_values(by='total_marks', ascending=False)\n",
    "len_data_code_1 = len(data_code_1)\n",
    "data_code_1.reset_index(inplace = True)\n",
    "top_10_data_code_1 = data_code_1.loc[:math.ceil(len_data_code_1*0.1)]\n",
    "avg_top_10_data_code_1 = np.mean(top_10_data_code_1['total_marks'].to_numpy())\n",
    "total_avg_data_code_1 = np.mean(data_code_1['total_marks'].to_numpy())\n",
    "total_sd_data_code_1 = np.std(data_code_1['total_marks'].to_numpy())\n",
    "sum_mean_SD_data_code_1 = total_avg_data_code_1 + total_sd_data_code_1\n",
    "\n",
    "\n",
    "\n",
    "\n",
    "data_code_2 = data[data['paper_code']==2].sort_values(by='total_marks', ascending=False)\n",
    "len_data_code_2 = len(data_code_2)\n",
    "data_code_2.reset_index(inplace = True)\n",
    "top_10_data_code_2 = data_code_2.loc[:math.ceil(len_data_code_2*0.1)]\n",
    "avg_top_10_data_code_2 = np.mean(top_10_data_code_2['total_marks'].to_numpy())\n",
    "total_avg_data_code_2 = np.mean(data_code_2['total_marks'].to_numpy())\n",
    "total_sd_data_code_2 = np.std(data_code_2['total_marks'].to_numpy())\n",
    "sum_mean_SD_data_code_2 = total_avg_data_code_2 + total_sd_data_code_2\n",
    "\n",
    "\n",
    "\n",
    "\n",
    "data_code_3 = data[data['paper_code']==3].sort_values(by='total_marks', ascending=False)\n",
    "len_data_code_3 = len(data_code_3)\n",
    "data_code_3.reset_index(inplace = True)\n",
    "top_10_data_code_3 = data_code_3.loc[:math.ceil(len_data_code_3*0.1)]\n",
    "avg_top_10_data_code_3 = np.mean(top_10_data_code_3['total_marks'].to_numpy())\n",
    "total_avg_data_code_3 = np.mean(data_code_3['total_marks'].to_numpy())\n",
    "total_sd_data_code_3 = np.std(data_code_3['total_marks'].to_numpy())\n",
    "sum_mean_SD_data_code_3 = total_avg_data_code_3 + total_sd_data_code_3\n",
    "\n",
    "\n",
    "\n",
    "\n",
    "total_data = data.sort_values(by='total_marks', ascending=False)\n",
    "len_total_data = len(total_data)\n",
    "total_data.reset_index(inplace = True)\n",
    "top_10_total_data = total_data.loc[:math.ceil(len_total_data*0.1)]\n",
    "avg_top_10_total_data = np.mean(top_10_total_data['total_marks'].to_numpy())\n",
    "\n",
    "\n",
    "\n",
    "total_avg_data = np.mean(data['total_marks'].to_numpy())\n",
    "total_SD = np.std(data['total_marks'].to_numpy())\n",
    "sum_mean_SD = total_avg_data + total_SD\n",
    "\n",
    "sum_mean_SD_data_code_3"
   ]
  },
  {
   "cell_type": "code",
   "execution_count": 105,
   "metadata": {},
   "outputs": [],
   "source": [
    "M_ij = 100  #Scored Value"
   ]
  },
  {
   "cell_type": "code",
   "execution_count": 107,
   "metadata": {},
   "outputs": [
    {
     "data": {
      "text/plain": [
       "97.27698569608287"
      ]
     },
     "execution_count": 107,
     "metadata": {},
     "output_type": "execute_result"
    }
   ],
   "source": [
    "Normalized_score = (((avg_top_10_total_data - sum_mean_SD)/(avg_top_10_data_code_2 - sum_mean_SD_data_code_2)) * (M_ij - sum_mean_SD_data_code_2)) + sum_mean_SD\n",
    "Normalized_score"
   ]
  },
  {
   "cell_type": "code",
   "execution_count": null,
   "metadata": {},
   "outputs": [],
   "source": []
  }
 ],
 "metadata": {
  "kernelspec": {
   "display_name": "Python 3",
   "language": "python",
   "name": "python3"
  },
  "language_info": {
   "codemirror_mode": {
    "name": "ipython",
    "version": 3
   },
   "file_extension": ".py",
   "mimetype": "text/x-python",
   "name": "python",
   "nbconvert_exporter": "python",
   "pygments_lexer": "ipython3",
   "version": "3.7.7"
  }
 },
 "nbformat": 4,
 "nbformat_minor": 4
}
